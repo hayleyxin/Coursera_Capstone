{
    "nbformat_minor": 1, 
    "cells": [
        {
            "source": "# The Battle of Neighborhoods\n\n\n## Introduction\nCalifornia is a state in the Pacific region of the United States. The state has an area of about 163,696 square miles, which makes it the third largest state in the US in terms of land area. In terms of population, California is the biggest state. The capital city is Sacramento while Los Angeles is the most populated city in the state. The population size of Los Angeles is second only to that of New York City among the cities in the US. Another interesting fact about California is that it has the largest economy of any state. For these reasons and others, the state is known globally for several things ranging from entertainment and relaxation to business and economy. \n\n### Business Problem\nA customer decided to expand his Japanese restaurant chain to California which has the largest economy of any state and high polulation. But how do they decide where should open their restaurant? There could be lots of factors that could potentially affect how the business would go, so choosing the right neighborhood is critical!\n\nThe idea of this study is to help the customer planning to open a Japanese restaurant in California to chose the right location by providing data about the population of each neighborhood as well as the competitors already present on the same regions.", 
            "cell_type": "markdown", 
            "metadata": {
                "collapsed": true
            }
        }, 
        {
            "source": "## Data\n\n**Based on definition of our problem, factors that will influence our decission are:**\n\n1. Number of existing restaurants in the neighborhood (any type of restaurant)\n2. number of and distance to Japanese restaurants in the neighborhood, if any\n3. population of the neighborhood in California\n\n**Following data sources will be needed to extract/generate the required information:**\n\n1. List of cities and towns in California with population: https://en.wikipedia.org/wiki/List_of_cities_and_towns_in_California\n\nTo provide the stakeholders the necessary information I'll be use the list of cities and towns in California from Wikipedia. It contains Population of each neighborhood in California.\n\n2. Foursquare API to collect competitors on the same neighborhoods.\n\nThe majority of the data used in this project will be taken from Foursquare API, which is a crowd sourced, comprehensive geographical data source. With Foursquare API, we will be able to get insight on the most popular venues in each neighborhood, their photos, ratings and customer comments on those venues.\n\n3. Google Maps Geocoding API\n\nThe latitude and the longitude coordinates of each places in California will be obtained using Google Maps API reverse geocoding.", 
            "cell_type": "markdown", 
            "metadata": {}
        }, 
        {
            "execution_count": null, 
            "cell_type": "code", 
            "metadata": {}, 
            "outputs": [], 
            "source": ""
        }
    ], 
    "metadata": {
        "kernelspec": {
            "display_name": "Python 3.6 with Spark", 
            "name": "python36", 
            "language": "python3"
        }, 
        "language_info": {
            "mimetype": "text/x-python", 
            "nbconvert_exporter": "python", 
            "version": "3.6.8", 
            "name": "python", 
            "file_extension": ".py", 
            "pygments_lexer": "ipython3", 
            "codemirror_mode": {
                "version": 3, 
                "name": "ipython"
            }
        }
    }, 
    "nbformat": 4
}